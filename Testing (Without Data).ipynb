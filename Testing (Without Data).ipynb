{
 "cells": [
  {
   "cell_type": "code",
   "execution_count": 1,
   "id": "a047bdb1",
   "metadata": {},
   "outputs": [
    {
     "name": "stderr",
     "output_type": "stream",
     "text": [
      "C:\\Users\\Cherw\\Anaconda3\\envs\\modelscope2\\lib\\site-packages\\tqdm\\auto.py:21: TqdmWarning: IProgress not found. Please update jupyter and ipywidgets. See https://ipywidgets.readthedocs.io/en/stable/user_install.html\n",
      "  from .autonotebook import tqdm as notebook_tqdm\n",
      "2023-05-07 23:50:46,872 - modelscope - INFO - PyTorch version 1.13.1 Found.\n",
      "2023-05-07 23:50:46,880 - modelscope - INFO - Loading ast index from C:\\Users\\Cherw\\.cache\\modelscope\\ast_indexer\n",
      "2023-05-07 23:50:47,238 - modelscope - INFO - Loading done! Current index file version is 1.5.2, with md5 88ae0fd0c912fc3fea3cd73a2c7806b9 and a total number of 860 components indexed\n"
     ]
    }
   ],
   "source": [
    "from modelscope.models import Model\n",
    "from modelscope.pipelines import pipeline\n",
    "from modelscope.preprocessors import ConversationalTextToSqlPreprocessor\n",
    "from modelscope.utils.constant import Tasks"
   ]
  },
  {
   "cell_type": "code",
   "execution_count": 2,
   "id": "aad30994",
   "metadata": {},
   "outputs": [
    {
     "data": {
      "text/plain": [
       "[('employee',), ('shop',), ('hiring',), ('evaluation',)]"
      ]
     },
     "execution_count": 2,
     "metadata": {},
     "output_type": "execute_result"
    }
   ],
   "source": [
    "import sqlite3\n",
    "\n",
    "conn = sqlite3.connect('C:/Users/Cherw/.cache/modelscope/hub/damo/nlp_star_conversational-text-to-sql/db/employee_hire_evaluation/employee_hire_evaluation.sqlite')\n",
    "cursor = conn.cursor()\n",
    "\n",
    "#Delete rows from tables\n",
    "cursor.execute(\"DELETE FROM employee;\",)\n",
    "cursor.execute(\"DELETE FROM shop;\",)\n",
    "cursor.execute(\"DELETE FROM hiring;\",)\n",
    "cursor.execute(\"DELETE FROM evaluation;\",)\n",
    "cursor.execute(\"SELECT name FROM sqlite_master WHERE type='table';\")\n",
    "\n",
    "conn.commit()\n",
    "tables = cursor.fetchall()\n",
    "tables"
   ]
  },
  {
   "cell_type": "code",
   "execution_count": 3,
   "id": "75d4d4b2",
   "metadata": {},
   "outputs": [
    {
     "data": {
      "text/html": [
       "<div>\n",
       "<style scoped>\n",
       "    .dataframe tbody tr th:only-of-type {\n",
       "        vertical-align: middle;\n",
       "    }\n",
       "\n",
       "    .dataframe tbody tr th {\n",
       "        vertical-align: top;\n",
       "    }\n",
       "\n",
       "    .dataframe thead th {\n",
       "        text-align: right;\n",
       "    }\n",
       "</style>\n",
       "<table border=\"1\" class=\"dataframe\">\n",
       "  <thead>\n",
       "    <tr style=\"text-align: right;\">\n",
       "      <th></th>\n",
       "      <th>Employee_ID</th>\n",
       "      <th>Name</th>\n",
       "      <th>Age</th>\n",
       "      <th>City</th>\n",
       "    </tr>\n",
       "  </thead>\n",
       "  <tbody>\n",
       "  </tbody>\n",
       "</table>\n",
       "</div>"
      ],
      "text/plain": [
       "Empty DataFrame\n",
       "Columns: [Employee_ID, Name, Age, City]\n",
       "Index: []"
      ]
     },
     "metadata": {},
     "output_type": "display_data"
    },
    {
     "data": {
      "text/html": [
       "<div>\n",
       "<style scoped>\n",
       "    .dataframe tbody tr th:only-of-type {\n",
       "        vertical-align: middle;\n",
       "    }\n",
       "\n",
       "    .dataframe tbody tr th {\n",
       "        vertical-align: top;\n",
       "    }\n",
       "\n",
       "    .dataframe thead th {\n",
       "        text-align: right;\n",
       "    }\n",
       "</style>\n",
       "<table border=\"1\" class=\"dataframe\">\n",
       "  <thead>\n",
       "    <tr style=\"text-align: right;\">\n",
       "      <th></th>\n",
       "      <th>Shop_ID</th>\n",
       "      <th>Name</th>\n",
       "      <th>Location</th>\n",
       "      <th>District</th>\n",
       "      <th>Number_products</th>\n",
       "      <th>Manager_name</th>\n",
       "    </tr>\n",
       "  </thead>\n",
       "  <tbody>\n",
       "  </tbody>\n",
       "</table>\n",
       "</div>"
      ],
      "text/plain": [
       "Empty DataFrame\n",
       "Columns: [Shop_ID, Name, Location, District, Number_products, Manager_name]\n",
       "Index: []"
      ]
     },
     "metadata": {},
     "output_type": "display_data"
    },
    {
     "data": {
      "text/html": [
       "<div>\n",
       "<style scoped>\n",
       "    .dataframe tbody tr th:only-of-type {\n",
       "        vertical-align: middle;\n",
       "    }\n",
       "\n",
       "    .dataframe tbody tr th {\n",
       "        vertical-align: top;\n",
       "    }\n",
       "\n",
       "    .dataframe thead th {\n",
       "        text-align: right;\n",
       "    }\n",
       "</style>\n",
       "<table border=\"1\" class=\"dataframe\">\n",
       "  <thead>\n",
       "    <tr style=\"text-align: right;\">\n",
       "      <th></th>\n",
       "      <th>Shop_ID</th>\n",
       "      <th>Employee_ID</th>\n",
       "      <th>Start_from</th>\n",
       "      <th>Is_full_time</th>\n",
       "    </tr>\n",
       "  </thead>\n",
       "  <tbody>\n",
       "  </tbody>\n",
       "</table>\n",
       "</div>"
      ],
      "text/plain": [
       "Empty DataFrame\n",
       "Columns: [Shop_ID, Employee_ID, Start_from, Is_full_time]\n",
       "Index: []"
      ]
     },
     "metadata": {},
     "output_type": "display_data"
    },
    {
     "data": {
      "text/html": [
       "<div>\n",
       "<style scoped>\n",
       "    .dataframe tbody tr th:only-of-type {\n",
       "        vertical-align: middle;\n",
       "    }\n",
       "\n",
       "    .dataframe tbody tr th {\n",
       "        vertical-align: top;\n",
       "    }\n",
       "\n",
       "    .dataframe thead th {\n",
       "        text-align: right;\n",
       "    }\n",
       "</style>\n",
       "<table border=\"1\" class=\"dataframe\">\n",
       "  <thead>\n",
       "    <tr style=\"text-align: right;\">\n",
       "      <th></th>\n",
       "      <th>Employee_ID</th>\n",
       "      <th>Year_awarded</th>\n",
       "      <th>Bonus</th>\n",
       "    </tr>\n",
       "  </thead>\n",
       "  <tbody>\n",
       "  </tbody>\n",
       "</table>\n",
       "</div>"
      ],
      "text/plain": [
       "Empty DataFrame\n",
       "Columns: [Employee_ID, Year_awarded, Bonus]\n",
       "Index: []"
      ]
     },
     "metadata": {},
     "output_type": "display_data"
    }
   ],
   "source": [
    "import pandas as pd\n",
    "\n",
    "from IPython.display import display, HTML\n",
    "\n",
    "for table_name in tables:\n",
    "    table_name = table_name[0]\n",
    "    table = pd.read_sql_query(\"SELECT * from %s\" % table_name, conn)\n",
    "    display (table)"
   ]
  },
  {
   "cell_type": "code",
   "execution_count": 6,
   "id": "d9878a9a",
   "metadata": {},
   "outputs": [],
   "source": [
    "model_id = 'damo/nlp_star_conversational-text-to-sql'\n",
    "test_case = {\n",
    "    \"database_id\": 'employee_hire_evaluation',\n",
    "    'local_db_path':None,\n",
    "    \"utterance\":[\n",
    "    \"I'd like to see Shop names.\",\n",
    "    \"Which employee had highest bonus?\",\n",
    "    \"Which shop is hiring the highest number of employees? | do you want the name of the shop ? | Yes\"]\n",
    "}"
   ]
  },
  {
   "cell_type": "code",
   "execution_count": 5,
   "id": "2a615caf",
   "metadata": {},
   "outputs": [
    {
     "name": "stderr",
     "output_type": "stream",
     "text": [
      "2023-05-07 23:52:24,675 - modelscope - INFO - Model revision not specified, use the latest revision: v1.0.0\n",
      "2023-05-07 23:52:26,397 - modelscope - INFO - initialize model from C:\\Users\\Cherw\\.cache\\modelscope\\hub\\damo\\nlp_star_conversational-text-to-sql\n",
      "2023-05-07 23:52:38 INFO: Loading these models for language: en (English):\n",
      "========================\n",
      "| Processor | Package  |\n",
      "------------------------\n",
      "| tokenize  | combined |\n",
      "| pos       | combined |\n",
      "| lemma     | combined |\n",
      "========================\n",
      "\n",
      "2023-05-07 23:52:38 INFO: Using device: cpu\n",
      "2023-05-07 23:52:38 INFO: Loading: tokenize\n",
      "2023-05-07 23:52:38 INFO: Loading: pos\n",
      "2023-05-07 23:52:38 INFO: Loading: lemma\n",
      "2023-05-07 23:52:38 INFO: Done loading processors!\n",
      "2023-05-07 23:52:39 INFO: Loading these models for language: en (English):\n",
      "========================\n",
      "| Processor | Package  |\n",
      "------------------------\n",
      "| tokenize  | combined |\n",
      "| pos       | combined |\n",
      "| lemma     | combined |\n",
      "========================\n",
      "\n",
      "2023-05-07 23:52:39 INFO: Using device: cpu\n",
      "2023-05-07 23:52:39 INFO: Loading: tokenize\n",
      "2023-05-07 23:52:39 INFO: Loading: pos\n",
      "2023-05-07 23:52:39 INFO: Loading: lemma\n",
      "2023-05-07 23:52:39 INFO: Done loading processors!\n",
      "2023-05-07 23:52:40,019 - modelscope - INFO - cuda is not available, using cpu instead.\n"
     ]
    },
    {
     "name": "stdout",
     "output_type": "stream",
     "text": [
      "In total, process 1 databases .\n"
     ]
    }
   ],
   "source": [
    "model = Model.from_pretrained(model_id)\n",
    "preprocessor = ConversationalTextToSqlPreprocessor(model_dir=model.model_dir)\n",
    "pipeline = pipeline(task=Tasks.table_question_answering,\n",
    "                    model=model,\n",
    "                    preprocessor=preprocessor)"
   ]
  },
  {
   "cell_type": "code",
   "execution_count": 7,
   "id": "5fa13874",
   "metadata": {},
   "outputs": [
    {
     "name": "stdout",
     "output_type": "stream",
     "text": [
      "punkt has already exist!\n",
      "{'output': {'text': 'SELECT shop.Name FROM shop'}}\n",
      "punkt has already exist!\n",
      "{'output': {'text': 'SELECT evaluation.Employee_ID FROM evaluation ORDER BY evaluation.Bonus DESC LIMIT 1'}}\n",
      "punkt has already exist!\n",
      "{'output': {'text': 'SELECT shop.Name FROM hiring JOIN shop GROUP BY hiring.Shop_ID ORDER BY COUNT(*) DESC LIMIT 1'}}\n"
     ]
    }
   ],
   "source": [
    "last_sql = ''\n",
    "history = []\n",
    "for item in test_case['utterance']:\n",
    "    case = {\"utterance\": item,\n",
    "            \"history\": history,\n",
    "            \"last_sql\": last_sql,\n",
    "            \"database_id\": test_case['database_id'],\n",
    "            'local_db_path': test_case['local_db_path']}\n",
    "    results = pipeline(case)\n",
    "    print(results)\n",
    "    history.append(item)"
   ]
  }
 ],
 "metadata": {
  "kernelspec": {
   "display_name": "Python 3 (ipykernel)",
   "language": "python",
   "name": "python3"
  },
  "language_info": {
   "codemirror_mode": {
    "name": "ipython",
    "version": 3
   },
   "file_extension": ".py",
   "mimetype": "text/x-python",
   "name": "python",
   "nbconvert_exporter": "python",
   "pygments_lexer": "ipython3",
   "version": "3.7.16"
  }
 },
 "nbformat": 4,
 "nbformat_minor": 5
}
