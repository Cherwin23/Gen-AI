{
 "cells": [
  {
   "cell_type": "code",
   "execution_count": 1,
   "id": "dac4df96",
   "metadata": {},
   "outputs": [],
   "source": [
    "import os\n",
    "import getpass"
   ]
  },
  {
   "cell_type": "code",
   "execution_count": 3,
   "id": "c30d8b48",
   "metadata": {},
   "outputs": [
    {
     "name": "stdout",
     "output_type": "stream",
     "text": [
      "OpenAI API Key:········\n"
     ]
    }
   ],
   "source": [
    "os.environ['OPENAI_API_KEY'] = getpass.getpass('OpenAI API Key:')"
   ]
  },
  {
   "cell_type": "code",
   "execution_count": 10,
   "id": "79fc4cb7",
   "metadata": {},
   "outputs": [
    {
     "name": "stdout",
     "output_type": "stream",
     "text": [
      "Collecting openai\n",
      "  Downloading openai-0.27.8-py3-none-any.whl (73 kB)\n",
      "     ---------------------------------------- 0.0/73.6 kB ? eta -:--:--\n",
      "     ---------------------------------------- 73.6/73.6 kB 4.0 MB/s eta 0:00:00\n",
      "Requirement already satisfied: aiohttp in c:\\users\\cherw\\anaconda3\\envs\\sqlbot\\lib\\site-packages (from openai) (3.8.4)\n",
      "Requirement already satisfied: tqdm in c:\\users\\cherw\\anaconda3\\envs\\sqlbot\\lib\\site-packages (from openai) (4.65.0)\n",
      "Requirement already satisfied: requests>=2.20 in c:\\users\\cherw\\anaconda3\\envs\\sqlbot\\lib\\site-packages (from openai) (2.31.0)\n",
      "Requirement already satisfied: urllib3<3,>=1.21.1 in c:\\users\\cherw\\anaconda3\\envs\\sqlbot\\lib\\site-packages (from requests>=2.20->openai) (1.26.16)\n",
      "Requirement already satisfied: charset-normalizer<4,>=2 in c:\\users\\cherw\\anaconda3\\envs\\sqlbot\\lib\\site-packages (from requests>=2.20->openai) (2.0.12)\n",
      "Requirement already satisfied: idna<4,>=2.5 in c:\\users\\cherw\\anaconda3\\envs\\sqlbot\\lib\\site-packages (from requests>=2.20->openai) (3.4)\n",
      "Requirement already satisfied: certifi>=2017.4.17 in c:\\users\\cherw\\anaconda3\\envs\\sqlbot\\lib\\site-packages (from requests>=2.20->openai) (2023.5.7)\n",
      "Requirement already satisfied: aiosignal>=1.1.2 in c:\\users\\cherw\\anaconda3\\envs\\sqlbot\\lib\\site-packages (from aiohttp->openai) (1.3.1)\n",
      "Requirement already satisfied: multidict<7.0,>=4.5 in c:\\users\\cherw\\anaconda3\\envs\\sqlbot\\lib\\site-packages (from aiohttp->openai) (6.0.4)\n",
      "Requirement already satisfied: yarl<2.0,>=1.0 in c:\\users\\cherw\\anaconda3\\envs\\sqlbot\\lib\\site-packages (from aiohttp->openai) (1.9.2)\n",
      "Requirement already satisfied: frozenlist>=1.1.1 in c:\\users\\cherw\\anaconda3\\envs\\sqlbot\\lib\\site-packages (from aiohttp->openai) (1.3.3)\n",
      "Requirement already satisfied: async-timeout<5.0,>=4.0.0a3 in c:\\users\\cherw\\anaconda3\\envs\\sqlbot\\lib\\site-packages (from aiohttp->openai) (4.0.2)\n",
      "Requirement already satisfied: attrs>=17.3.0 in c:\\users\\cherw\\anaconda3\\envs\\sqlbot\\lib\\site-packages (from aiohttp->openai) (23.1.0)\n",
      "Requirement already satisfied: colorama in c:\\users\\cherw\\anaconda3\\envs\\sqlbot\\lib\\site-packages (from tqdm->openai) (0.4.6)\n",
      "Installing collected packages: openai\n",
      "Successfully installed openai-0.27.8\n"
     ]
    }
   ],
   "source": [
    "!pip install openai"
   ]
  },
  {
   "cell_type": "code",
   "execution_count": 12,
   "id": "149074f1",
   "metadata": {},
   "outputs": [
    {
     "name": "stdout",
     "output_type": "stream",
     "text": [
      "Collecting tiktoken\n",
      "  Downloading tiktoken-0.4.0-cp38-cp38-win_amd64.whl (635 kB)\n",
      "     ---------------------------------------- 0.0/635.3 kB ? eta -:--:--\n",
      "     -------------------------- ---------- 450.6/635.3 kB 14.2 MB/s eta 0:00:01\n",
      "     -------------------------------------- 635.3/635.3 kB 9.9 MB/s eta 0:00:00\n",
      "Requirement already satisfied: requests>=2.26.0 in c:\\users\\cherw\\anaconda3\\envs\\sqlbot\\lib\\site-packages (from tiktoken) (2.31.0)\n",
      "Requirement already satisfied: regex>=2022.1.18 in c:\\users\\cherw\\anaconda3\\envs\\sqlbot\\lib\\site-packages (from tiktoken) (2023.5.5)\n",
      "Requirement already satisfied: charset-normalizer<4,>=2 in c:\\users\\cherw\\anaconda3\\envs\\sqlbot\\lib\\site-packages (from requests>=2.26.0->tiktoken) (2.0.12)\n",
      "Requirement already satisfied: certifi>=2017.4.17 in c:\\users\\cherw\\anaconda3\\envs\\sqlbot\\lib\\site-packages (from requests>=2.26.0->tiktoken) (2023.5.7)\n",
      "Requirement already satisfied: idna<4,>=2.5 in c:\\users\\cherw\\anaconda3\\envs\\sqlbot\\lib\\site-packages (from requests>=2.26.0->tiktoken) (3.4)\n",
      "Requirement already satisfied: urllib3<3,>=1.21.1 in c:\\users\\cherw\\anaconda3\\envs\\sqlbot\\lib\\site-packages (from requests>=2.26.0->tiktoken) (1.26.16)\n",
      "Installing collected packages: tiktoken\n",
      "Successfully installed tiktoken-0.4.0\n"
     ]
    }
   ],
   "source": [
    "!pip install tiktoken"
   ]
  },
  {
   "cell_type": "code",
   "execution_count": 13,
   "id": "3cb4dd9b",
   "metadata": {},
   "outputs": [],
   "source": [
    "from langchain.document_loaders import TextLoader\n",
    "from langchain.embeddings.openai import OpenAIEmbeddings\n",
    "from langchain.text_splitter import CharacterTextSplitter\n",
    "from langchain.vectorstores import Chroma\n",
    "\n",
    "# Load the document, split it into chunks, embed each chunk and load it into the vector store.\n",
    "raw_documents = TextLoader('state_of_the_union.txt', encoding='utf-8').load()\n",
    "text_splitter = CharacterTextSplitter(chunk_size=1000, chunk_overlap=0)\n",
    "documents = text_splitter.split_documents(raw_documents)\n",
    "db = Chroma.from_documents(documents, OpenAIEmbeddings())"
   ]
  },
  {
   "cell_type": "code",
   "execution_count": 14,
   "id": "a40893c8",
   "metadata": {},
   "outputs": [
    {
     "name": "stdout",
     "output_type": "stream",
     "text": [
      "Tonight. I call on the Senate to: Pass the Freedom to Vote Act. Pass the John Lewis Voting Rights Act. And while you’re at it, pass the Disclose Act so Americans can know who is funding our elections. \n",
      "\n",
      "Tonight, I’d like to honor someone who has dedicated his life to serve this country: Justice Stephen Breyer—an Army veteran, Constitutional scholar, and retiring Justice of the United States Supreme Court. Justice Breyer, thank you for your service. \n",
      "\n",
      "One of the most serious constitutional responsibilities a President has is nominating someone to serve on the United States Supreme Court. \n",
      "\n",
      "And I did that 4 days ago, when I nominated Circuit Court of Appeals Judge Ketanji Brown Jackson. One of our nation’s top legal minds, who will continue Justice Breyer’s legacy of excellence.\n"
     ]
    }
   ],
   "source": [
    "query = \"What did the president say about Ketanji Brown Jackson\"\n",
    "docs = db.similarity_search(query)\n",
    "print(docs[0].page_content)"
   ]
  },
  {
   "cell_type": "code",
   "execution_count": 15,
   "id": "30638516",
   "metadata": {},
   "outputs": [
    {
     "name": "stdout",
     "output_type": "stream",
     "text": [
      "Tonight. I call on the Senate to: Pass the Freedom to Vote Act. Pass the John Lewis Voting Rights Act. And while you’re at it, pass the Disclose Act so Americans can know who is funding our elections. \n",
      "\n",
      "Tonight, I’d like to honor someone who has dedicated his life to serve this country: Justice Stephen Breyer—an Army veteran, Constitutional scholar, and retiring Justice of the United States Supreme Court. Justice Breyer, thank you for your service. \n",
      "\n",
      "One of the most serious constitutional responsibilities a President has is nominating someone to serve on the United States Supreme Court. \n",
      "\n",
      "And I did that 4 days ago, when I nominated Circuit Court of Appeals Judge Ketanji Brown Jackson. One of our nation’s top legal minds, who will continue Justice Breyer’s legacy of excellence.\n"
     ]
    }
   ],
   "source": [
    "embedding_vector = OpenAIEmbeddings().embed_query(query)\n",
    "docs = db.similarity_search_by_vector(embedding_vector)\n",
    "print(docs[0].page_content)"
   ]
  },
  {
   "cell_type": "code",
   "execution_count": 17,
   "id": "09283293",
   "metadata": {},
   "outputs": [
    {
     "name": "stdout",
     "output_type": "stream",
     "text": [
      "Collecting qdrant-client\n",
      "  Downloading qdrant_client-1.3.1-py3-none-any.whl (132 kB)\n",
      "     ---------------------------------------- 0.0/132.9 kB ? eta -:--:--\n",
      "     -------------------------------------- 132.9/132.9 kB 7.7 MB/s eta 0:00:00\n",
      "Collecting portalocker<3.0.0,>=2.7.0\n",
      "  Downloading portalocker-2.7.0-py2.py3-none-any.whl (15 kB)\n",
      "Collecting httpx[http2]>=0.14.0\n",
      "  Downloading httpx-0.24.1-py3-none-any.whl (75 kB)\n",
      "     ---------------------------------------- 0.0/75.4 kB ? eta -:--:--\n",
      "     ---------------------------------------- 75.4/75.4 kB ? eta 0:00:00\n",
      "Requirement already satisfied: urllib3<2.0.0,>=1.26.14 in c:\\users\\cherw\\anaconda3\\envs\\sqlbot\\lib\\site-packages (from qdrant-client) (1.26.16)\n",
      "Collecting typing-extensions<4.6.0,>=4.0.0\n",
      "  Downloading typing_extensions-4.5.0-py3-none-any.whl (27 kB)\n",
      "Requirement already satisfied: numpy>=1.21 in c:\\users\\cherw\\anaconda3\\envs\\sqlbot\\lib\\site-packages (from qdrant-client) (1.24.3)\n",
      "Collecting grpcio-tools>=1.41.0\n",
      "  Downloading grpcio_tools-1.56.2-cp38-cp38-win_amd64.whl (2.0 MB)\n",
      "     ---------------------------------------- 0.0/2.0 MB ? eta -:--:--\n",
      "     -------------- ------------------------- 0.7/2.0 MB 23.0 MB/s eta 0:00:01\n",
      "     ------------------------- -------------- 1.3/2.0 MB 16.3 MB/s eta 0:00:01\n",
      "     -------------------------------- ------- 1.6/2.0 MB 14.9 MB/s eta 0:00:01\n",
      "     ---------------------------------------- 2.0/2.0 MB 11.7 MB/s eta 0:00:00\n",
      "Requirement already satisfied: pydantic<2.0,>=1.8 in c:\\users\\cherw\\anaconda3\\envs\\sqlbot\\lib\\site-packages (from qdrant-client) (1.10.8)\n",
      "Collecting grpcio>=1.41.0\n",
      "  Downloading grpcio-1.56.2-cp38-cp38-win_amd64.whl (4.3 MB)\n",
      "     ---------------------------------------- 0.0/4.3 MB ? eta -:--:--\n",
      "     ------ --------------------------------- 0.6/4.3 MB 20.5 MB/s eta 0:00:01\n",
      "     ----------- ---------------------------- 1.2/4.3 MB 15.4 MB/s eta 0:00:01\n",
      "     ---------------- ----------------------- 1.8/4.3 MB 13.9 MB/s eta 0:00:01\n",
      "     --------------------- ------------------ 2.3/4.3 MB 13.5 MB/s eta 0:00:01\n",
      "     -------------------------- ------------- 2.9/4.3 MB 13.0 MB/s eta 0:00:01\n",
      "     -------------------------------- ------- 3.4/4.3 MB 12.8 MB/s eta 0:00:01\n",
      "     ------------------------------------- -- 4.0/4.3 MB 12.6 MB/s eta 0:00:01\n",
      "     ---------------------------------------  4.2/4.3 MB 12.3 MB/s eta 0:00:01\n",
      "     ---------------------------------------- 4.3/4.3 MB 11.3 MB/s eta 0:00:00\n",
      "Requirement already satisfied: setuptools in c:\\users\\cherw\\anaconda3\\envs\\sqlbot\\lib\\site-packages (from grpcio-tools>=1.41.0->qdrant-client) (67.8.0)\n",
      "Requirement already satisfied: protobuf<5.0dev,>=4.21.6 in c:\\users\\cherw\\anaconda3\\envs\\sqlbot\\lib\\site-packages (from grpcio-tools>=1.41.0->qdrant-client) (4.23.4)\n",
      "Requirement already satisfied: certifi in c:\\users\\cherw\\anaconda3\\envs\\sqlbot\\lib\\site-packages (from httpx[http2]>=0.14.0->qdrant-client) (2023.5.7)\n",
      "Collecting httpcore<0.18.0,>=0.15.0\n",
      "  Downloading httpcore-0.17.3-py3-none-any.whl (74 kB)\n",
      "     ---------------------------------------- 0.0/74.5 kB ? eta -:--:--\n",
      "     ---------------------------------------- 74.5/74.5 kB ? eta 0:00:00\n",
      "Requirement already satisfied: idna in c:\\users\\cherw\\anaconda3\\envs\\sqlbot\\lib\\site-packages (from httpx[http2]>=0.14.0->qdrant-client) (3.4)\n",
      "Requirement already satisfied: sniffio in c:\\users\\cherw\\anaconda3\\envs\\sqlbot\\lib\\site-packages (from httpx[http2]>=0.14.0->qdrant-client) (1.3.0)\n",
      "Collecting h2<5,>=3\n",
      "  Downloading h2-4.1.0-py3-none-any.whl (57 kB)\n",
      "     ---------------------------------------- 0.0/57.5 kB ? eta -:--:--\n",
      "     ---------------------------------------- 57.5/57.5 kB 3.0 MB/s eta 0:00:00\n",
      "Requirement already satisfied: pywin32>=226 in c:\\users\\cherw\\anaconda3\\envs\\sqlbot\\lib\\site-packages (from portalocker<3.0.0,>=2.7.0->qdrant-client) (306)\n",
      "Collecting hpack<5,>=4.0\n",
      "  Downloading hpack-4.0.0-py3-none-any.whl (32 kB)\n",
      "Collecting hyperframe<7,>=6.0\n",
      "  Downloading hyperframe-6.0.1-py3-none-any.whl (12 kB)\n",
      "Requirement already satisfied: anyio<5.0,>=3.0 in c:\\users\\cherw\\anaconda3\\envs\\sqlbot\\lib\\site-packages (from httpcore<0.18.0,>=0.15.0->httpx[http2]>=0.14.0->qdrant-client) (3.7.0)\n",
      "Requirement already satisfied: h11<0.15,>=0.13 in c:\\users\\cherw\\anaconda3\\envs\\sqlbot\\lib\\site-packages (from httpcore<0.18.0,>=0.15.0->httpx[http2]>=0.14.0->qdrant-client) (0.14.0)\n",
      "Requirement already satisfied: exceptiongroup in c:\\users\\cherw\\anaconda3\\envs\\sqlbot\\lib\\site-packages (from anyio<5.0,>=3.0->httpcore<0.18.0,>=0.15.0->httpx[http2]>=0.14.0->qdrant-client) (1.1.1)\n",
      "Installing collected packages: typing-extensions, portalocker, hyperframe, hpack, grpcio, httpcore, h2, grpcio-tools, httpx, qdrant-client\n",
      "  Attempting uninstall: typing-extensions\n",
      "    Found existing installation: typing_extensions 4.6.2\n",
      "    Uninstalling typing_extensions-4.6.2:\n",
      "      Successfully uninstalled typing_extensions-4.6.2\n",
      "Successfully installed grpcio-1.56.2 grpcio-tools-1.56.2 h2-4.1.0 hpack-4.0.0 httpcore-0.17.3 httpx-0.24.1 hyperframe-6.0.1 portalocker-2.7.0 qdrant-client-1.3.1 typing-extensions-4.5.0\n"
     ]
    }
   ],
   "source": [
    "!pip install qdrant-client"
   ]
  },
  {
   "cell_type": "code",
   "execution_count": 27,
   "id": "4b2534de",
   "metadata": {},
   "outputs": [],
   "source": [
    "from langchain.vectorstores import Qdrant\n",
    "from langchain.embeddings.openai import OpenAIEmbeddings"
   ]
  },
  {
   "cell_type": "code",
   "execution_count": 28,
   "id": "3720da83",
   "metadata": {},
   "outputs": [],
   "source": [
    "embeddings = OpenAIEmbeddings()"
   ]
  },
  {
   "cell_type": "code",
   "execution_count": 40,
   "id": "8f386fab",
   "metadata": {},
   "outputs": [
    {
     "ename": "NotImplementedError",
     "evalue": "",
     "output_type": "error",
     "traceback": [
      "\u001b[1;31m---------------------------------------------------------------------------\u001b[0m",
      "\u001b[1;31mNotImplementedError\u001b[0m                       Traceback (most recent call last)",
      "Cell \u001b[1;32mIn[40], line 1\u001b[0m\n\u001b[1;32m----> 1\u001b[0m db \u001b[38;5;241m=\u001b[39m \u001b[38;5;28;01mawait\u001b[39;00m Qdrant\u001b[38;5;241m.\u001b[39mafrom_documents(documents, embeddings)\n",
      "File \u001b[1;32m~\\Anaconda3\\envs\\sqlbot\\lib\\site-packages\\langchain\\vectorstores\\base.py:319\u001b[0m, in \u001b[0;36mVectorStore.afrom_documents\u001b[1;34m(cls, documents, embedding, **kwargs)\u001b[0m\n\u001b[0;32m    317\u001b[0m texts \u001b[38;5;241m=\u001b[39m [d\u001b[38;5;241m.\u001b[39mpage_content \u001b[38;5;28;01mfor\u001b[39;00m d \u001b[38;5;129;01min\u001b[39;00m documents]\n\u001b[0;32m    318\u001b[0m metadatas \u001b[38;5;241m=\u001b[39m [d\u001b[38;5;241m.\u001b[39mmetadata \u001b[38;5;28;01mfor\u001b[39;00m d \u001b[38;5;129;01min\u001b[39;00m documents]\n\u001b[1;32m--> 319\u001b[0m \u001b[38;5;28;01mreturn\u001b[39;00m \u001b[38;5;28;01mawait\u001b[39;00m \u001b[38;5;28mcls\u001b[39m\u001b[38;5;241m.\u001b[39mafrom_texts(texts, embedding, metadatas\u001b[38;5;241m=\u001b[39mmetadatas, \u001b[38;5;241m*\u001b[39m\u001b[38;5;241m*\u001b[39mkwargs)\n",
      "File \u001b[1;32m~\\Anaconda3\\envs\\sqlbot\\lib\\site-packages\\langchain\\vectorstores\\base.py:341\u001b[0m, in \u001b[0;36mVectorStore.afrom_texts\u001b[1;34m(cls, texts, embedding, metadatas, **kwargs)\u001b[0m\n\u001b[0;32m    332\u001b[0m \u001b[38;5;129m@classmethod\u001b[39m\n\u001b[0;32m    333\u001b[0m \u001b[38;5;28;01masync\u001b[39;00m \u001b[38;5;28;01mdef\u001b[39;00m \u001b[38;5;21mafrom_texts\u001b[39m(\n\u001b[0;32m    334\u001b[0m     \u001b[38;5;28mcls\u001b[39m: Type[VST],\n\u001b[1;32m   (...)\u001b[0m\n\u001b[0;32m    338\u001b[0m     \u001b[38;5;241m*\u001b[39m\u001b[38;5;241m*\u001b[39mkwargs: Any,\n\u001b[0;32m    339\u001b[0m ) \u001b[38;5;241m-\u001b[39m\u001b[38;5;241m>\u001b[39m VST:\n\u001b[0;32m    340\u001b[0m \u001b[38;5;250m    \u001b[39m\u001b[38;5;124;03m\"\"\"Return VectorStore initialized from texts and embeddings.\"\"\"\u001b[39;00m\n\u001b[1;32m--> 341\u001b[0m     \u001b[38;5;28;01mraise\u001b[39;00m \u001b[38;5;167;01mNotImplementedError\u001b[39;00m\n",
      "\u001b[1;31mNotImplementedError\u001b[0m: "
     ]
    }
   ],
   "source": [
    "db = await Qdrant.afrom_documents(documents, embeddings)"
   ]
  },
  {
   "cell_type": "code",
   "execution_count": 39,
   "id": "308950f3",
   "metadata": {},
   "outputs": [
    {
     "ename": "AttributeError",
     "evalue": "'coroutine' object has no attribute 'asimilarity_search'",
     "output_type": "error",
     "traceback": [
      "\u001b[1;31m---------------------------------------------------------------------------\u001b[0m",
      "\u001b[1;31mAttributeError\u001b[0m                            Traceback (most recent call last)",
      "Cell \u001b[1;32mIn[39], line 2\u001b[0m\n\u001b[0;32m      1\u001b[0m query \u001b[38;5;241m=\u001b[39m \u001b[38;5;124m\"\u001b[39m\u001b[38;5;124mWhat did the president say about Ketanji Brown Jackson\u001b[39m\u001b[38;5;124m\"\u001b[39m\n\u001b[1;32m----> 2\u001b[0m docs \u001b[38;5;241m=\u001b[39m \u001b[38;5;28;01mawait\u001b[39;00m db\u001b[38;5;241m.\u001b[39masimilarity_search(query)\n\u001b[0;32m      3\u001b[0m \u001b[38;5;28mprint\u001b[39m(docs[\u001b[38;5;241m0\u001b[39m]\u001b[38;5;241m.\u001b[39mpage_content)\n",
      "\u001b[1;31mAttributeError\u001b[0m: 'coroutine' object has no attribute 'asimilarity_search'"
     ]
    }
   ],
   "source": [
    "query = \"What did the president say about Ketanji Brown Jackson\"\n",
    "docs = await db.asimilarity_search(query)\n",
    "print(docs[0].page_content)"
   ]
  }
 ],
 "metadata": {
  "kernelspec": {
   "display_name": "Python 3 (ipykernel)",
   "language": "python",
   "name": "python3"
  },
  "language_info": {
   "codemirror_mode": {
    "name": "ipython",
    "version": 3
   },
   "file_extension": ".py",
   "mimetype": "text/x-python",
   "name": "python",
   "nbconvert_exporter": "python",
   "pygments_lexer": "ipython3",
   "version": "3.8.16"
  }
 },
 "nbformat": 4,
 "nbformat_minor": 5
}
